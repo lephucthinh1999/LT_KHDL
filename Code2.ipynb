{
 "cells": [
  {
   "cell_type": "code",
   "execution_count": 12,
   "id": "81df6545-2ed2-46e9-bdc6-e0614b1ed7ae",
   "metadata": {},
   "outputs": [],
   "source": [
    "import pandas as pd\n",
    "import numpy as np\n",
    "import matplotlib.pyplot as plt"
   ]
  },
  {
   "cell_type": "code",
   "execution_count": 2,
   "id": "5dc02ca2-4bf4-4dd3-b97b-78a2a06859e5",
   "metadata": {},
   "outputs": [],
   "source": [
    "df = pd.read_csv(\"Covid_data.csv\",thousands=',',skipinitialspace=True)"
   ]
  },
  {
   "cell_type": "code",
   "execution_count": 3,
   "id": "bfa8149f-8607-49f3-9b38-c4fc0827851d",
   "metadata": {},
   "outputs": [],
   "source": [
    "df.drop('Unnamed: 0',inplace=True,axis =1)"
   ]
  },
  {
   "cell_type": "markdown",
   "id": "b7940f28-6ade-4521-a5ca-ec322f551a2b",
   "metadata": {},
   "source": [
    "### 1. Check NaN values"
   ]
  },
  {
   "cell_type": "code",
   "execution_count": 4,
   "id": "e0bc76ed-c773-4d0c-b618-086f687b0d2c",
   "metadata": {},
   "outputs": [
    {
     "data": {
      "text/html": [
       "<div>\n",
       "<style scoped>\n",
       "    .dataframe tbody tr th:only-of-type {\n",
       "        vertical-align: middle;\n",
       "    }\n",
       "\n",
       "    .dataframe tbody tr th {\n",
       "        vertical-align: top;\n",
       "    }\n",
       "\n",
       "    .dataframe thead th {\n",
       "        text-align: right;\n",
       "    }\n",
       "</style>\n",
       "<table border=\"1\" class=\"dataframe\">\n",
       "  <thead>\n",
       "    <tr style=\"text-align: right;\">\n",
       "      <th></th>\n",
       "      <th>country</th>\n",
       "      <th>continent</th>\n",
       "      <th>total_cases</th>\n",
       "      <th>new_cases</th>\n",
       "      <th>total_deaths</th>\n",
       "      <th>new_deaths</th>\n",
       "      <th>total_recovered</th>\n",
       "      <th>active_cases</th>\n",
       "      <th>serious</th>\n",
       "      <th>cases/1M_pop</th>\n",
       "      <th>deaths/1M_pop</th>\n",
       "      <th>total_tests</th>\n",
       "      <th>tests/1M_pop</th>\n",
       "      <th>population</th>\n",
       "      <th>Date</th>\n",
       "    </tr>\n",
       "  </thead>\n",
       "  <tbody>\n",
       "    <tr>\n",
       "      <th>0</th>\n",
       "      <td>China</td>\n",
       "      <td>Asia</td>\n",
       "      <td>82995</td>\n",
       "      <td>2.0</td>\n",
       "      <td>4634.0</td>\n",
       "      <td>NaN</td>\n",
       "      <td>78288.0</td>\n",
       "      <td>73.0</td>\n",
       "      <td>4.0</td>\n",
       "      <td>58.0</td>\n",
       "      <td>3.0</td>\n",
       "      <td>NaN</td>\n",
       "      <td>NaN</td>\n",
       "      <td>1.439324e+09</td>\n",
       "      <td>2020-05-28</td>\n",
       "    </tr>\n",
       "    <tr>\n",
       "      <th>1</th>\n",
       "      <td>USA</td>\n",
       "      <td>North America</td>\n",
       "      <td>1768461</td>\n",
       "      <td>22658.0</td>\n",
       "      <td>103330.0</td>\n",
       "      <td>1223.0</td>\n",
       "      <td>498725.0</td>\n",
       "      <td>1166406.0</td>\n",
       "      <td>17202.0</td>\n",
       "      <td>5346.0</td>\n",
       "      <td>312.0</td>\n",
       "      <td>16331312.0</td>\n",
       "      <td>49365.0</td>\n",
       "      <td>3.308276e+08</td>\n",
       "      <td>2020-05-28</td>\n",
       "    </tr>\n",
       "    <tr>\n",
       "      <th>2</th>\n",
       "      <td>Brazil</td>\n",
       "      <td>South America</td>\n",
       "      <td>438812</td>\n",
       "      <td>24151.0</td>\n",
       "      <td>26764.0</td>\n",
       "      <td>1067.0</td>\n",
       "      <td>193181.0</td>\n",
       "      <td>218867.0</td>\n",
       "      <td>8318.0</td>\n",
       "      <td>2066.0</td>\n",
       "      <td>126.0</td>\n",
       "      <td>871839.0</td>\n",
       "      <td>4104.0</td>\n",
       "      <td>2.124222e+08</td>\n",
       "      <td>2020-05-28</td>\n",
       "    </tr>\n",
       "    <tr>\n",
       "      <th>3</th>\n",
       "      <td>Russia</td>\n",
       "      <td>Europe</td>\n",
       "      <td>379051</td>\n",
       "      <td>8371.0</td>\n",
       "      <td>4142.0</td>\n",
       "      <td>174.0</td>\n",
       "      <td>150993.0</td>\n",
       "      <td>223916.0</td>\n",
       "      <td>2300.0</td>\n",
       "      <td>2598.0</td>\n",
       "      <td>28.0</td>\n",
       "      <td>9701280.0</td>\n",
       "      <td>66479.0</td>\n",
       "      <td>1.459290e+08</td>\n",
       "      <td>2020-05-28</td>\n",
       "    </tr>\n",
       "    <tr>\n",
       "      <th>4</th>\n",
       "      <td>Spain</td>\n",
       "      <td>Europe</td>\n",
       "      <td>284986</td>\n",
       "      <td>1137.0</td>\n",
       "      <td>27119.0</td>\n",
       "      <td>1.0</td>\n",
       "      <td>196958.0</td>\n",
       "      <td>60909.0</td>\n",
       "      <td>854.0</td>\n",
       "      <td>6096.0</td>\n",
       "      <td>580.0</td>\n",
       "      <td>3556567.0</td>\n",
       "      <td>76071.0</td>\n",
       "      <td>4.675320e+07</td>\n",
       "      <td>2020-05-28</td>\n",
       "    </tr>\n",
       "  </tbody>\n",
       "</table>\n",
       "</div>"
      ],
      "text/plain": [
       "  country      continent  total_cases  new_cases  total_deaths  new_deaths  \\\n",
       "0   China           Asia        82995        2.0        4634.0         NaN   \n",
       "1     USA  North America      1768461    22658.0      103330.0      1223.0   \n",
       "2  Brazil  South America       438812    24151.0       26764.0      1067.0   \n",
       "3  Russia         Europe       379051     8371.0        4142.0       174.0   \n",
       "4   Spain         Europe       284986     1137.0       27119.0         1.0   \n",
       "\n",
       "   total_recovered  active_cases  serious  cases/1M_pop  deaths/1M_pop  \\\n",
       "0          78288.0          73.0      4.0          58.0            3.0   \n",
       "1         498725.0     1166406.0  17202.0        5346.0          312.0   \n",
       "2         193181.0      218867.0   8318.0        2066.0          126.0   \n",
       "3         150993.0      223916.0   2300.0        2598.0           28.0   \n",
       "4         196958.0       60909.0    854.0        6096.0          580.0   \n",
       "\n",
       "   total_tests  tests/1M_pop    population        Date  \n",
       "0          NaN           NaN  1.439324e+09  2020-05-28  \n",
       "1   16331312.0       49365.0  3.308276e+08  2020-05-28  \n",
       "2     871839.0        4104.0  2.124222e+08  2020-05-28  \n",
       "3    9701280.0       66479.0  1.459290e+08  2020-05-28  \n",
       "4    3556567.0       76071.0  4.675320e+07  2020-05-28  "
      ]
     },
     "execution_count": 4,
     "metadata": {},
     "output_type": "execute_result"
    }
   ],
   "source": [
    "df.head()"
   ]
  },
  {
   "cell_type": "code",
   "execution_count": 5,
   "id": "b128c16d-ad73-4b82-9ff2-e329d0424ee7",
   "metadata": {},
   "outputs": [],
   "source": [
    "nan_values =[]\n",
    "for i in df.columns:\n",
    "    nan_values.append(df[i].isnull().sum()/len(df[i]))"
   ]
  },
  {
   "cell_type": "code",
   "execution_count": 6,
   "id": "6b66b98a-3a5d-45b7-9ae1-675a0cc4eeb3",
   "metadata": {},
   "outputs": [
    {
     "data": {
      "text/html": [
       "<div>\n",
       "<style scoped>\n",
       "    .dataframe tbody tr th:only-of-type {\n",
       "        vertical-align: middle;\n",
       "    }\n",
       "\n",
       "    .dataframe tbody tr th {\n",
       "        vertical-align: top;\n",
       "    }\n",
       "\n",
       "    .dataframe thead th {\n",
       "        text-align: right;\n",
       "    }\n",
       "</style>\n",
       "<table border=\"1\" class=\"dataframe\">\n",
       "  <thead>\n",
       "    <tr style=\"text-align: right;\">\n",
       "      <th></th>\n",
       "      <th>NaN_Percent</th>\n",
       "    </tr>\n",
       "  </thead>\n",
       "  <tbody>\n",
       "    <tr>\n",
       "      <th>country</th>\n",
       "      <td>0.000000</td>\n",
       "    </tr>\n",
       "    <tr>\n",
       "      <th>continent</th>\n",
       "      <td>0.000000</td>\n",
       "    </tr>\n",
       "    <tr>\n",
       "      <th>total_cases</th>\n",
       "      <td>0.000000</td>\n",
       "    </tr>\n",
       "    <tr>\n",
       "      <th>new_cases</th>\n",
       "      <td>0.333023</td>\n",
       "    </tr>\n",
       "    <tr>\n",
       "      <th>total_deaths</th>\n",
       "      <td>0.139907</td>\n",
       "    </tr>\n",
       "    <tr>\n",
       "      <th>new_deaths</th>\n",
       "      <td>0.623814</td>\n",
       "    </tr>\n",
       "    <tr>\n",
       "      <th>total_recovered</th>\n",
       "      <td>0.021767</td>\n",
       "    </tr>\n",
       "    <tr>\n",
       "      <th>active_cases</th>\n",
       "      <td>0.017116</td>\n",
       "    </tr>\n",
       "    <tr>\n",
       "      <th>serious</th>\n",
       "      <td>0.393116</td>\n",
       "    </tr>\n",
       "    <tr>\n",
       "      <th>cases/1M_pop</th>\n",
       "      <td>0.009302</td>\n",
       "    </tr>\n",
       "    <tr>\n",
       "      <th>deaths/1M_pop</th>\n",
       "      <td>0.149209</td>\n",
       "    </tr>\n",
       "    <tr>\n",
       "      <th>total_tests</th>\n",
       "      <td>0.114233</td>\n",
       "    </tr>\n",
       "    <tr>\n",
       "      <th>tests/1M_pop</th>\n",
       "      <td>0.114233</td>\n",
       "    </tr>\n",
       "    <tr>\n",
       "      <th>population</th>\n",
       "      <td>0.008186</td>\n",
       "    </tr>\n",
       "    <tr>\n",
       "      <th>Date</th>\n",
       "      <td>0.000000</td>\n",
       "    </tr>\n",
       "  </tbody>\n",
       "</table>\n",
       "</div>"
      ],
      "text/plain": [
       "                 NaN_Percent\n",
       "country             0.000000\n",
       "continent           0.000000\n",
       "total_cases         0.000000\n",
       "new_cases           0.333023\n",
       "total_deaths        0.139907\n",
       "new_deaths          0.623814\n",
       "total_recovered     0.021767\n",
       "active_cases        0.017116\n",
       "serious             0.393116\n",
       "cases/1M_pop        0.009302\n",
       "deaths/1M_pop       0.149209\n",
       "total_tests         0.114233\n",
       "tests/1M_pop        0.114233\n",
       "population          0.008186\n",
       "Date                0.000000"
      ]
     },
     "execution_count": 6,
     "metadata": {},
     "output_type": "execute_result"
    }
   ],
   "source": [
    "nan_values_df = pd.DataFrame(nan_values,index=df.columns,columns=['NaN_Percent'])\n",
    "nan_values_df"
   ]
  },
  {
   "cell_type": "markdown",
   "id": "21fb86a7-e3cb-4703-9676-77059c59a7eb",
   "metadata": {},
   "source": [
    "Qua việc xem xét dữ liệu ta thấy được số lượng NaN values được chia làm 2 kiểu. Kiểu 1 là **bỏ trống** 2 là **inf**. Với những ô bỏ trống ta sẽ fill các ô đó với giá trị 0 còn với các giá trị \"inf\" ta sẽ fill nó với giá trị mean của tập dataset "
   ]
  },
  {
   "cell_type": "markdown",
   "id": "6599fc8a-2455-4c72-a6ff-1676caa55a7c",
   "metadata": {},
   "source": [
    "### 2. Pre_processing "
   ]
  },
  {
   "cell_type": "code",
   "execution_count": 7,
   "id": "830266f6-0adf-4293-90da-ae8b6218d414",
   "metadata": {},
   "outputs": [],
   "source": [
    "def PRE_PROCESS(frame):\n",
    "    MEAN = df['total_cases'].mean()\n",
    "    frame['total_cases'].replace(np.inf,MEAN,inplace=True) #pre-process total_cases\n",
    "    frame['new_cases'].replace(np.nan,0,inplace=True) # pre-process new_cases\n",
    "# pre-process total_deaths\n",
    "    MEAN = df['total_deaths'].mean()\n",
    "    frame['total_deaths'].replace(np.inf,MEAN,inplace=True) \n",
    "    frame['total_deaths'].replace(np.nan,0,inplace=True)\n",
    "# pre-process new_deaths\n",
    "    frame['new_deaths'].replace(np.nan,0,inplace=True)\n",
    "# pre-process total_recovered\n",
    "    MEAN = df['total_recovered'].mean()\n",
    "    frame['total_recovered'].replace(np.inf,MEAN,inplace=True) \n",
    "    frame['total_recovered'].replace(np.nan,0,inplace=True)\n",
    "# pre-process active_cases\n",
    "    MEAN = df['active_cases'].mean()\n",
    "    frame['active_cases'].replace(np.inf,MEAN,inplace=True) \n",
    "    frame['active_cases'].replace(np.nan,0,inplace=True)\n",
    "# pre-process serious\n",
    "    MEAN = df['serious'].mean()\n",
    "    frame['serious'].replace(np.inf,MEAN,inplace=True) \n",
    "    frame['serious'].replace(np.nan,0,inplace=True)"
   ]
  },
  {
   "cell_type": "code",
   "execution_count": 8,
   "id": "b78fbc6c-10bb-43e3-a77e-66aa5c1f36ab",
   "metadata": {},
   "outputs": [],
   "source": [
    "PRE_PROCESS(df)"
   ]
  },
  {
   "cell_type": "markdown",
   "id": "1cc1a70d-eefc-47e5-8941-720576574cc7",
   "metadata": {},
   "source": [
    "### 3. Xem dtypes của các trường dữ liệu"
   ]
  },
  {
   "cell_type": "code",
   "execution_count": 9,
   "id": "4bd1bb7a-eb63-4500-aa17-088c542e8bac",
   "metadata": {},
   "outputs": [],
   "source": [
    "dtypes =[]\n",
    "for i in df.columns:\n",
    "    dtypes.append(df[i].dtypes)"
   ]
  },
  {
   "cell_type": "code",
   "execution_count": 10,
   "id": "2a6e81e7-905c-4c3e-ac86-fdb9499545cc",
   "metadata": {},
   "outputs": [
    {
     "data": {
      "text/html": [
       "<div>\n",
       "<style scoped>\n",
       "    .dataframe tbody tr th:only-of-type {\n",
       "        vertical-align: middle;\n",
       "    }\n",
       "\n",
       "    .dataframe tbody tr th {\n",
       "        vertical-align: top;\n",
       "    }\n",
       "\n",
       "    .dataframe thead th {\n",
       "        text-align: right;\n",
       "    }\n",
       "</style>\n",
       "<table border=\"1\" class=\"dataframe\">\n",
       "  <thead>\n",
       "    <tr style=\"text-align: right;\">\n",
       "      <th></th>\n",
       "      <th>Dtypes</th>\n",
       "    </tr>\n",
       "  </thead>\n",
       "  <tbody>\n",
       "    <tr>\n",
       "      <th>country</th>\n",
       "      <td>object</td>\n",
       "    </tr>\n",
       "    <tr>\n",
       "      <th>continent</th>\n",
       "      <td>object</td>\n",
       "    </tr>\n",
       "    <tr>\n",
       "      <th>total_cases</th>\n",
       "      <td>int64</td>\n",
       "    </tr>\n",
       "    <tr>\n",
       "      <th>new_cases</th>\n",
       "      <td>float64</td>\n",
       "    </tr>\n",
       "    <tr>\n",
       "      <th>total_deaths</th>\n",
       "      <td>float64</td>\n",
       "    </tr>\n",
       "    <tr>\n",
       "      <th>new_deaths</th>\n",
       "      <td>float64</td>\n",
       "    </tr>\n",
       "    <tr>\n",
       "      <th>total_recovered</th>\n",
       "      <td>float64</td>\n",
       "    </tr>\n",
       "    <tr>\n",
       "      <th>active_cases</th>\n",
       "      <td>float64</td>\n",
       "    </tr>\n",
       "    <tr>\n",
       "      <th>serious</th>\n",
       "      <td>float64</td>\n",
       "    </tr>\n",
       "    <tr>\n",
       "      <th>cases/1M_pop</th>\n",
       "      <td>float64</td>\n",
       "    </tr>\n",
       "    <tr>\n",
       "      <th>deaths/1M_pop</th>\n",
       "      <td>float64</td>\n",
       "    </tr>\n",
       "    <tr>\n",
       "      <th>total_tests</th>\n",
       "      <td>float64</td>\n",
       "    </tr>\n",
       "    <tr>\n",
       "      <th>tests/1M_pop</th>\n",
       "      <td>float64</td>\n",
       "    </tr>\n",
       "    <tr>\n",
       "      <th>population</th>\n",
       "      <td>float64</td>\n",
       "    </tr>\n",
       "    <tr>\n",
       "      <th>Date</th>\n",
       "      <td>object</td>\n",
       "    </tr>\n",
       "  </tbody>\n",
       "</table>\n",
       "</div>"
      ],
      "text/plain": [
       "                  Dtypes\n",
       "country           object\n",
       "continent         object\n",
       "total_cases        int64\n",
       "new_cases        float64\n",
       "total_deaths     float64\n",
       "new_deaths       float64\n",
       "total_recovered  float64\n",
       "active_cases     float64\n",
       "serious          float64\n",
       "cases/1M_pop     float64\n",
       "deaths/1M_pop    float64\n",
       "total_tests      float64\n",
       "tests/1M_pop     float64\n",
       "population       float64\n",
       "Date              object"
      ]
     },
     "execution_count": 10,
     "metadata": {},
     "output_type": "execute_result"
    }
   ],
   "source": [
    "dtypes_df = pd.DataFrame(dtypes,index=df.columns,columns=['Dtypes'])\n",
    "dtypes_df"
   ]
  },
  {
   "cell_type": "markdown",
   "id": "43a2485e",
   "metadata": {},
   "source": [
    "### 4. Histogram and box plot"
   ]
  },
  {
   "cell_type": "code",
   "execution_count": 13,
   "id": "1d05ca91",
   "metadata": {},
   "outputs": [
    {
     "data": {
      "image/png": "[encoded data removed]",
      "text/plain": [
       "<Figure size 1440x1440 with 4 Axes>"
      ]
     },
     "metadata": {
      "needs_background": "light"
     },
     "output_type": "display_data"
    }
   ],
   "source": [
    "from scipy import stats\n",
    "f, ax = plt.subplots(2,2, figsize=(20,20))\n",
    "\n",
    "ax[0,0].hist(df['total_cases'], density=True, color=\"gray\")\n",
    "ax[0,0].set_title(\"Distribution of Total Cases\",fontsize=20)\n",
    "ax[0, 0].grid(alpha=0.3,which='both')\n",
    "\n",
    "ax[0,1].hist(df['total_deaths'], density=True,  color = \"red\")\n",
    "ax[0,1].set_title(\"Distribution of Total Deaths\",fontsize=20)\n",
    "ax[0,1].grid(alpha=0.3,which='both')\n",
    "\n",
    "ax[1,0].hist(df['total_recovered'], density=True, color = \"green\")\n",
    "ax[1,0].set_title(\"Distribution of Total Recovered\",fontsize=20)\n",
    "ax[1,0].grid(alpha=0.3,which='both')\n",
    "\n",
    "ax[1,1].hist(df['active_cases'], density=True, color = \"slateblue\")\n",
    "ax[1,1].set_title(\"Distribution of Active cases\",fontsize=20)\n",
    "ax[1,1].grid(alpha=0.3,which='both')"
   ]
  },
  {
   "cell_type": "code",
   "execution_count": 14,
   "id": "b02a429d",
   "metadata": {},
   "outputs": [],
   "source": [
    "# Loại bỏ nhiễu \n",
    "def removeNoisy(A, lower, higher):\n",
    "    v_lower = np.quantile(A, lower)\n",
    "    v_higher = np.quantile(A, higher)\n",
    "    X = [x for x in A if x<v_higher and x>v_lower]\n",
    "    return X "
   ]
  },
  {
   "cell_type": "code",
   "execution_count": 15,
   "id": "539fd679",
   "metadata": {},
   "outputs": [
    {
     "data": {
      "text/plain": [
       "0         82995\n",
       "1       1768461\n",
       "2        438812\n",
       "3        379051\n",
       "4        284986\n",
       "         ...   \n",
       "5370          7\n",
       "5371          6\n",
       "5372          4\n",
       "5373          3\n",
       "5374          1\n",
       "Name: total_cases, Length: 5375, dtype: int64"
      ]
     },
     "execution_count": 15,
     "metadata": {},
     "output_type": "execute_result"
    }
   ],
   "source": [
    "df['total_cases']"
   ]
  },
  {
   "cell_type": "code",
   "execution_count": 16,
   "id": "46f4c8f5",
   "metadata": {},
   "outputs": [
    {
     "data": {
      "text/plain": [
       "Text(0.5, 1.0, 'Box plot (Active Cases)')"
      ]
     },
     "execution_count": 16,
     "metadata": {},
     "output_type": "execute_result"
    },
    {
     "data": {
      "image/png": "[encoded data removed]",
      "text/plain": [
       "<Figure size 1440x720 with 4 Axes>"
      ]
     },
     "metadata": {
      "needs_background": "light"
     },
     "output_type": "display_data"
    }
   ],
   "source": [
    "plt.figure(figsize=(20, 10))\n",
    "\n",
    "Total_Cases = removeNoisy(df['total_cases'], 0.25, 0.75)\n",
    "#print(Total_Cases)\n",
    "plt.subplot(2,2,1)\n",
    "plt.boxplot(Total_Cases)\n",
    "plt.title(\"Box plot (Total Cases)\",fontsize=20)\n",
    "\n",
    "Total_Deaths = removeNoisy(df['total_deaths'], 0.25, 0.75)\n",
    "plt.subplot(2,2,2)\n",
    "plt.boxplot(Total_Deaths)\n",
    "plt.title(\"Box plot (Total Deaths)\",fontsize=20)\n",
    "\n",
    "Total_Recovered = removeNoisy(df['total_recovered'], 0.25, 0.75)\n",
    "plt.subplot(2,2,3)\n",
    "plt.boxplot(Total_Recovered)\n",
    "plt.title(\"Box plot (Total Recovered)\",fontsize=20)\n",
    "\n",
    "Active_Cases = removeNoisy(df['active_cases'], 0.25, 0.75)\n",
    "plt.subplot(2,2,4)\n",
    "plt.boxplot(Active_Cases)\n",
    "plt.title(\"Box plot (Active Cases)\",fontsize=20)"
   ]
  },
  {
   "cell_type": "code",
   "execution_count": null,
   "id": "266045b3",
   "metadata": {},
   "outputs": [],
   "source": []
  }
 ],
 "metadata": {
  "kernelspec": {
   "display_name": "Python 3",
   "language": "python",
   "name": "python3"
  },
  "language_info": {
   "codemirror_mode": {
    "name": "ipython",
    "version": 3
   },
   "file_extension": ".py",
   "mimetype": "text/x-python",
   "name": "python",
   "nbconvert_exporter": "python",
   "pygments_lexer": "ipython3",
   "version": "3.8.5"
  }
 },
 "nbformat": 4,
 "nbformat_minor": 5
}
